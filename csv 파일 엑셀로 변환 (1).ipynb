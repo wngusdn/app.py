{
 "cells": [
  {
   "cell_type": "code",
   "execution_count": 9,
   "id": "d26c3d6a",
   "metadata": {},
   "outputs": [],
   "source": [
    "#1: 실행하고 나온값 복사 \n",
    "import pandas as pd\n",
    "\n",
    "# matching_result.csv 파일에서 데이터 읽어오기\n",
    "matching_result_file = 'matching_result.csv'\n",
    "matching_result = pd.read_csv(matching_result_file)\n",
    "\n",
    "# 매칭 그룹 정보에 따라 결과 출력\n",
    "for group_number in sorted(matching_result['매칭 그룹'].unique()):\n",
    "    group_data = matching_result[matching_result['매칭 그룹'] == group_number]\n",
    "    for _, row in group_data.iterrows():\n",
    "        print(row['이름'])\n"
   ]
  },
  {
   "cell_type": "code",
   "execution_count": null,
   "id": "4a7654dd",
   "metadata": {},
   "outputs": [],
   "source": [
    "#2: 입력칸에 붙여넣기 -> 전화번호 복사 **주의** 이름 앞에 빈칸이 있으면 전화번호값을 못찾음. 빈칸을 없애줘야함(오류 정보 검사 누르고, 오류값들 수정하기)\n",
    "import pandas as pd\n",
    "\n",
    "# CSV 파일에서 데이터를 읽어옵니다.\n",
    "df = pd.read_csv('user_data.csv')\n",
    "\n",
    "# 사용자로부터 일렬로 복사하여 붙여넣은 이름을 입력받습니다.\n",
    "names_text = input(\"이름 목록을 일렬로 복사하여 붙여넣으세요: \")\n",
    "\n",
    "# 입력받은 텍스트를 줄바꿈으로 분할하여 리스트에 저장합니다.\n",
    "names = names_text.strip().split()\n",
    "\n",
    "# 결과를 저장할 리스트\n",
    "results = []\n",
    "\n",
    "# 데이터프레임을 반복하면서 매칭 결과를 처리합니다.\n",
    "for name in names:\n",
    "    # 해당 이름으로 전화번호를 가져옵니다.\n",
    "    user_data = df[df['이름'] == name]['전화번호'].values\n",
    "    if len(user_data) > 0:\n",
    "        user_data = user_data[0]\n",
    "        # 전화번호를 문자열로 변환\n",
    "        user_data = str(user_data)\n",
    "        # 전화번호가 10자리가 아닌 경우 (9자리) 앞에 0을 붙입니다.\n",
    "        if len(user_data) == 10:\n",
    "            user_data = '0' + user_data\n",
    "        # 결과를 조합하여 리스트에 추가합니다.\n",
    "        results.append(f\"{user_data}\")\n",
    "\n",
    "# 결과를 출력합니다.\n",
    "for result in results:\n",
    "    print(result)\n"
   ]
  },
  {
   "cell_type": "code",
   "execution_count": null,
   "id": "fd16f41c",
   "metadata": {},
   "outputs": [],
   "source": []
  }
 ],
 "metadata": {
  "kernelspec": {
   "display_name": "Python 3 (ipykernel)",
   "language": "python",
   "name": "python3"
  },
  "language_info": {
   "codemirror_mode": {
    "name": "ipython",
    "version": 3
   },
   "file_extension": ".py",
   "mimetype": "text/x-python",
   "name": "python",
   "nbconvert_exporter": "python",
   "pygments_lexer": "ipython3",
   "version": "3.11.4"
  }
 },
 "nbformat": 4,
 "nbformat_minor": 5
}
